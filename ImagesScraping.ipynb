{
  "nbformat": 4,
  "nbformat_minor": 0,
  "metadata": {
    "colab": {
      "provenance": [],
      "authorship_tag": "ABX9TyMionRVRHhPrcIZmwXOs50j",
      "include_colab_link": true
    },
    "kernelspec": {
      "name": "python3",
      "display_name": "Python 3"
    },
    "language_info": {
      "name": "python"
    }
  },
  "cells": [
    {
      "cell_type": "markdown",
      "metadata": {
        "id": "view-in-github",
        "colab_type": "text"
      },
      "source": [
        "<a href=\"https://colab.research.google.com/github/nitrogoose/WebScraping/blob/main/ImagesScraping.ipynb\" target=\"_parent\"><img src=\"https://colab.research.google.com/assets/colab-badge.svg\" alt=\"Open In Colab\"/></a>"
      ]
    },
    {
      "cell_type": "code",
      "execution_count": 9,
      "metadata": {
        "colab": {
          "base_uri": "https://localhost:8080/"
        },
        "id": "r903Tto5Y4Gv",
        "outputId": "3d0559eb-43c4-4032-f4c7-834e627095f8"
      },
      "outputs": [
        {
          "output_type": "stream",
          "name": "stdout",
          "text": [
            "Requirement already satisfied: requests in /usr/local/lib/python3.10/dist-packages (2.32.3)\n",
            "Requirement already satisfied: beautifulsoup4 in /usr/local/lib/python3.10/dist-packages (4.12.3)\n",
            "Requirement already satisfied: pillow in /usr/local/lib/python3.10/dist-packages (10.4.0)\n",
            "Requirement already satisfied: charset-normalizer<4,>=2 in /usr/local/lib/python3.10/dist-packages (from requests) (3.4.0)\n",
            "Requirement already satisfied: idna<4,>=2.5 in /usr/local/lib/python3.10/dist-packages (from requests) (3.10)\n",
            "Requirement already satisfied: urllib3<3,>=1.21.1 in /usr/local/lib/python3.10/dist-packages (from requests) (2.2.3)\n",
            "Requirement already satisfied: certifi>=2017.4.17 in /usr/local/lib/python3.10/dist-packages (from requests) (2024.8.30)\n",
            "Requirement already satisfied: soupsieve>1.2 in /usr/local/lib/python3.10/dist-packages (from beautifulsoup4) (2.6)\n"
          ]
        }
      ],
      "source": [
        "!pip install requests beautifulsoup4 pillow\n",
        "\n"
      ]
    },
    {
      "cell_type": "code",
      "source": [
        "import os\n",
        "import requests\n",
        "from bs4 import BeautifulSoup\n",
        "from urllib.parse import urljoin\n",
        "from zipfile import ZipFile\n",
        "from google.colab import files  # Import files module from Colab\n",
        "import shutil  # To help remove the folder contents\n",
        "\n",
        "# Function to clear the folder contents\n",
        "def clear_folder(folder_path):\n",
        "    if os.path.exists(folder_path):\n",
        "        shutil.rmtree(folder_path)  # Remove the entire folder and its contents\n",
        "    os.makedirs(folder_path)  # Create an empty folder\n",
        "\n",
        "# Function to download an image\n",
        "def download_image(url, folder_path):\n",
        "    try:\n",
        "        response = requests.get(url)\n",
        "        if response.status_code == 200:\n",
        "            # Get the image name from the URL\n",
        "            image_name = url.split(\"/\")[-1]\n",
        "            image_path = os.path.join(folder_path, image_name)\n",
        "            # Write the image to a file\n",
        "            with open(image_path, \"wb\") as file:\n",
        "                file.write(response.content)\n",
        "            print(f\"Downloaded {image_name}\")\n",
        "        else:\n",
        "            print(f\"Failed to retrieve {url}\")\n",
        "    except Exception as e:\n",
        "        print(f\"Error downloading {url}: {e}\")\n",
        "\n",
        "# Function to scrape images from a webpage and save them in a folder\n",
        "def scrape_images_from_website(url, folder_path=\"downloaded_images\"):\n",
        "    # Clear the folder before scraping\n",
        "    clear_folder(folder_path)\n",
        "\n",
        "    # Send a GET request to the website\n",
        "    response = requests.get(url)\n",
        "    soup = BeautifulSoup(response.content, \"html.parser\")\n",
        "\n",
        "    # Find all image tags in the HTML content\n",
        "    img_tags = soup.find_all(\"img\")\n",
        "\n",
        "    # Extract image URLs and download them\n",
        "    for img_tag in img_tags:\n",
        "        img_url = img_tag.get(\"src\")\n",
        "        if img_url:\n",
        "            # If the image URL is relative, make it absolute\n",
        "            img_url = urljoin(url, img_url)\n",
        "            download_image(img_url, folder_path)\n",
        "\n",
        "    # Zip the folder for easy downloading\n",
        "    zip_file_name = f\"{folder_path}.zip\"\n",
        "    with ZipFile(zip_file_name, 'w') as zipf:\n",
        "        for root, _, files_list in os.walk(folder_path):\n",
        "            for file in files_list:\n",
        "                zipf.write(os.path.join(root, file), os.path.relpath(os.path.join(root, file), folder_path))\n",
        "    print(f\"All images have been saved and zipped in {zip_file_name}\")\n",
        "\n",
        "    # Download the zip file to the local computer\n",
        "    files.download(zip_file_name)\n",
        "\n",
        "# Example usage\n",
        "website_url = \"https://en.wikipedia.org/wiki/Infant\"  # Replace with the URL of the website you want to scrape\n",
        "scrape_images_from_website(website_url)\n",
        "\n",
        "\n"
      ],
      "metadata": {
        "colab": {
          "base_uri": "https://localhost:8080/",
          "height": 506
        },
        "id": "Pmpq01mkpav3",
        "outputId": "9a8410aa-28b5-4f2f-d299-c3c726fe7563"
      },
      "execution_count": 14,
      "outputs": [
        {
          "output_type": "stream",
          "name": "stdout",
          "text": [
            "Downloaded wikipedia.png\n",
            "Downloaded wikipedia-wordmark-en.svg\n",
            "Downloaded wikipedia-tagline-en.svg\n",
            "Downloaded 20px-Semi-protection-shackle.svg.png\n",
            "Failed to retrieve https://upload.wikimedia.org/wikipedia/commons/thumb/4/4d/The_newborn_baby_in_men.jpg/300px-The_newborn_baby_in_men.jpg\n",
            "Downloaded 100px-Views_of_a_Foetus_in_the_Womb_detail.jpg\n",
            "Downloaded 16px-Psi2.svg.png\n",
            "Downloaded 50px-Question_book-new.svg.png\n",
            "Failed to retrieve https://upload.wikimedia.org/wikipedia/commons/thumb/e/e1/Baby_Face.JPG/220px-Baby_Face.JPG\n",
            "Failed to retrieve https://upload.wikimedia.org/wikipedia/commons/thumb/a/af/Baby_hairy_head_DSCN2483.jpg/220px-Baby_hairy_head_DSCN2483.jpg\n",
            "Downloaded 220px-HumanNewborn.JPG\n",
            "Failed to retrieve https://upload.wikimedia.org/wikipedia/commons/thumb/8/83/%E5%88%9D%E5%9C%9F%E4%BF%B5%E5%85%A52.gif/220px-%E5%88%9D%E5%9C%9F%E4%BF%B5%E5%85%A52.gif\n",
            "Failed to retrieve https://upload.wikimedia.org/wikipedia/commons/thumb/9/93/Georgia_National_Guard_%2838100696265%29.jpg/220px-Georgia_National_Guard_%2838100696265%29.jpg\n",
            "Failed to retrieve https://upload.wikimedia.org/wikipedia/commons/thumb/3/3b/A_Proper_Space_Book_for_Babies_%2850879866102%29.jpg/220px-A_Proper_Space_Book_for_Babies_%2850879866102%29.jpg\n",
            "Failed to retrieve https://upload.wikimedia.org/wikipedia/commons/thumb/9/9c/Sleeping_baby_%286410829477%29.jpg/220px-Sleeping_baby_%286410829477%29.jpg\n",
            "Failed to retrieve https://upload.wikimedia.org/wikipedia/commons/thumb/5/5a/Umwotsi.jpg/220px-Umwotsi.jpg\n",
            "Failed to retrieve https://upload.wikimedia.org/wikipedia/commons/thumb/a/a9/Being_a_twin_means_you_always_have_a_pillow_or_blanket_handy.jpg/222px-Being_a_twin_means_you_always_have_a_pillow_or_blanket_handy.jpg\n",
            "Downloaded Babyimmunization.jpg\n",
            "Downloaded 34px-Wikiquote-logo.svg.png\n",
            "Downloaded 40px-Wikibooks-logo-en-noslogan.svg.png\n",
            "Downloaded 30px-Commons-logo.svg.png\n",
            "Downloaded 40px-Wiktionary-logo-en-v2.svg.png\n",
            "Downloaded 10px-OOjs_UI_icon_edit-ltr-progressive.svg.png\n",
            "Downloaded start?type=1x1\n",
            "Downloaded wikimedia-button.svg\n",
            "Downloaded poweredby_mediawiki.svg\n",
            "All images have been saved and zipped in downloaded_images.zip\n"
          ]
        },
        {
          "output_type": "display_data",
          "data": {
            "text/plain": [
              "<IPython.core.display.Javascript object>"
            ],
            "application/javascript": [
              "\n",
              "    async function download(id, filename, size) {\n",
              "      if (!google.colab.kernel.accessAllowed) {\n",
              "        return;\n",
              "      }\n",
              "      const div = document.createElement('div');\n",
              "      const label = document.createElement('label');\n",
              "      label.textContent = `Downloading \"${filename}\": `;\n",
              "      div.appendChild(label);\n",
              "      const progress = document.createElement('progress');\n",
              "      progress.max = size;\n",
              "      div.appendChild(progress);\n",
              "      document.body.appendChild(div);\n",
              "\n",
              "      const buffers = [];\n",
              "      let downloaded = 0;\n",
              "\n",
              "      const channel = await google.colab.kernel.comms.open(id);\n",
              "      // Send a message to notify the kernel that we're ready.\n",
              "      channel.send({})\n",
              "\n",
              "      for await (const message of channel.messages) {\n",
              "        // Send a message to notify the kernel that we're ready.\n",
              "        channel.send({})\n",
              "        if (message.buffers) {\n",
              "          for (const buffer of message.buffers) {\n",
              "            buffers.push(buffer);\n",
              "            downloaded += buffer.byteLength;\n",
              "            progress.value = downloaded;\n",
              "          }\n",
              "        }\n",
              "      }\n",
              "      const blob = new Blob(buffers, {type: 'application/binary'});\n",
              "      const a = document.createElement('a');\n",
              "      a.href = window.URL.createObjectURL(blob);\n",
              "      a.download = filename;\n",
              "      div.appendChild(a);\n",
              "      a.click();\n",
              "      div.remove();\n",
              "    }\n",
              "  "
            ]
          },
          "metadata": {}
        },
        {
          "output_type": "display_data",
          "data": {
            "text/plain": [
              "<IPython.core.display.Javascript object>"
            ],
            "application/javascript": [
              "download(\"download_e51852d3-898d-4cc1-886a-7a0fcd5f3cc9\", \"downloaded_images.zip\", 110241)"
            ]
          },
          "metadata": {}
        }
      ]
    }
  ]
}