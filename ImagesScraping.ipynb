{
  "nbformat": 4,
  "nbformat_minor": 0,
  "metadata": {
    "colab": {
      "provenance": [],
      "authorship_tag": "ABX9TyOqAm08EYOdQi6bKUTCiYWY",
      "include_colab_link": true
    },
    "kernelspec": {
      "name": "python3",
      "display_name": "Python 3"
    },
    "language_info": {
      "name": "python"
    }
  },
  "cells": [
    {
      "cell_type": "markdown",
      "metadata": {
        "id": "view-in-github",
        "colab_type": "text"
      },
      "source": [
        "<a href=\"https://colab.research.google.com/github/nitrogoose/WebScraping/blob/main/ImagesScraping.ipynb\" target=\"_parent\"><img src=\"https://colab.research.google.com/assets/colab-badge.svg\" alt=\"Open In Colab\"/></a>"
      ]
    },
    {
      "cell_type": "code",
      "execution_count": null,
      "metadata": {
        "colab": {
          "base_uri": "https://localhost:8080/"
        },
        "id": "r903Tto5Y4Gv",
        "outputId": "1b22fcfa-9e63-42b8-fd71-4629f7a6d08d"
      },
      "outputs": [
        {
          "output_type": "stream",
          "name": "stdout",
          "text": [
            "Requirement already satisfied: requests in /usr/local/lib/python3.10/dist-packages (2.32.3)\n",
            "Requirement already satisfied: beautifulsoup4 in /usr/local/lib/python3.10/dist-packages (4.12.3)\n",
            "Requirement already satisfied: pillow in /usr/local/lib/python3.10/dist-packages (10.4.0)\n",
            "Requirement already satisfied: charset-normalizer<4,>=2 in /usr/local/lib/python3.10/dist-packages (from requests) (3.4.0)\n",
            "Requirement already satisfied: idna<4,>=2.5 in /usr/local/lib/python3.10/dist-packages (from requests) (3.10)\n",
            "Requirement already satisfied: urllib3<3,>=1.21.1 in /usr/local/lib/python3.10/dist-packages (from requests) (2.2.3)\n",
            "Requirement already satisfied: certifi>=2017.4.17 in /usr/local/lib/python3.10/dist-packages (from requests) (2024.8.30)\n",
            "Requirement already satisfied: soupsieve>1.2 in /usr/local/lib/python3.10/dist-packages (from beautifulsoup4) (2.6)\n"
          ]
        }
      ],
      "source": [
        "!pip install requests beautifulsoup4 pillow\n",
        "\n"
      ]
    },
    {
      "cell_type": "code",
      "source": [
        "import os\n",
        "import requests\n",
        "from bs4 import BeautifulSoup\n",
        "from urllib.parse import urljoin\n",
        "from zipfile import ZipFile\n",
        "from google.colab import files  # Import files module from Colab\n",
        "\n",
        "# Function to download an image\n",
        "def download_image(url, folder_path):\n",
        "    try:\n",
        "        response = requests.get(url)\n",
        "        if response.status_code == 200:\n",
        "            # Get the image name from the URL\n",
        "            image_name = url.split(\"/\")[-1]\n",
        "            image_path = os.path.join(folder_path, image_name)\n",
        "            # Write the image to a file\n",
        "            with open(image_path, \"wb\") as file:\n",
        "                file.write(response.content)\n",
        "            print(f\"Downloaded {image_name}\")\n",
        "        else:\n",
        "            print(f\"Failed to retrieve {url}\")\n",
        "    except Exception as e:\n",
        "        print(f\"Error downloading {url}: {e}\")\n",
        "\n",
        "# Function to scrape images from a webpage and save them in a folder\n",
        "def scrape_images_from_website(url, folder_path=\"downloaded_images\"):\n",
        "    # Create the folder if it doesn't exist\n",
        "    if not os.path.exists(folder_path):\n",
        "        os.makedirs(folder_path)\n",
        "\n",
        "    # Send a GET request to the website\n",
        "    response = requests.get(url)\n",
        "    soup = BeautifulSoup(response.content, \"html.parser\")\n",
        "\n",
        "    # Find all image tags in the HTML content\n",
        "    img_tags = soup.find_all(\"img\")\n",
        "\n",
        "    # Extract image URLs and download them\n",
        "    for img_tag in img_tags:\n",
        "        img_url = img_tag.get(\"src\")\n",
        "        if img_url:\n",
        "            # If the image URL is relative, make it absolute\n",
        "            img_url = urljoin(url, img_url)\n",
        "            download_image(img_url, folder_path)\n",
        "\n",
        "    # Zip the folder for easy downloading\n",
        "    zip_file_name = f\"{folder_path}.zip\"\n",
        "    with ZipFile(zip_file_name, 'w') as zipf:\n",
        "        for root, _, files_list in os.walk(folder_path):\n",
        "            for file in files_list:\n",
        "                zipf.write(os.path.join(root, file), os.path.relpath(os.path.join(root, file), folder_path))\n",
        "    print(f\"All images have been saved and zipped in {zip_file_name}\")\n",
        "\n",
        "    # Download the zip file to the local computer\n",
        "    files.download(zip_file_name)\n",
        "\n",
        "# Example usage\n",
        "website_url = \"https://en.wikipedia.org/wiki/Anne_Hathaway\"  # Replace with the URL of the website you want to scrape\n",
        "scrape_images_from_website(website_url)\n",
        "\n",
        "\n"
      ],
      "metadata": {
        "colab": {
          "base_uri": "https://localhost:8080/",
          "height": 538
        },
        "id": "Pmpq01mkpav3",
        "outputId": "3cea37c6-d8ca-4922-b93b-732f0453b4e5"
      },
      "execution_count": null,
      "outputs": [
        {
          "output_type": "stream",
          "name": "stdout",
          "text": [
            "Downloaded wikipedia.png\n",
            "Downloaded wikipedia-wordmark-en.svg\n",
            "Downloaded wikipedia-tagline-en.svg\n",
            "Downloaded 20px-Cscr-featured.svg.png\n",
            "Downloaded 20px-Semi-protection-shackle.svg.png\n",
            "Downloaded 220px-Anne_Hathaway-68211_%28cropped_2%29.jpg\n",
            "Downloaded 150px-Anne_Hathaway_signature.svg.png\n",
            "Downloaded 240px-Paper_Mill_Playhouse_entrance.jpg\n",
            "Downloaded 170px-Anne_Hathaway_at_the_2007_Deauville_American_Film_Festival-01A.jpg\n",
            "Downloaded 170px-Denzel_Washington_og_Anne_Hathaway_IMG_6550b_%28cropped%29.jpg\n",
            "Downloaded 170px-Anne_Hathaway_2014_%28cropped%29.jpg\n",
            "Downloaded 170px-Anne_Hathaway_in_2016.jpg\n",
            "Downloaded 170px-Anne_Hathaway-68408_%28cropped%29.jpg\n",
            "Downloaded 170px-Anne_Hathaway_TIFF_2008.jpg\n",
            "Downloaded 170px-Anne_Hathaway_%40_2018.09.15_Human_Rights_Campaign_National_Dinner%2C_Washington%2C_DC_USA_06198_%2844713869971%29_%28cropped_4%29.jpg\n",
            "Downloaded 220px-Anne_Hathaway_for_AHC_%28cropped%29.png\n",
            "Downloaded 20px-Commons-logo.svg.png\n",
            "Downloaded 23px-Wikiquote-logo.svg.png\n",
            "Downloaded 27px-Wikidata-logo.svg.png\n",
            "Downloaded 19px-P_vip.svg.png\n",
            "Downloaded 21px-Flag_of_New_York_City.svg.png\n",
            "Downloaded 21px-P_culture.svg.png\n",
            "Downloaded 21px-BathingSuit1920s.jpg\n",
            "Downloaded 20px-Mickey_Mouse_colored_%28head%29.svg.png\n",
            "Downloaded 21px-Blank_television_set.svg.png\n",
            "Downloaded 10px-OOjs_UI_icon_edit-ltr-progressive.svg.png\n",
            "Downloaded start?type=1x1\n",
            "Downloaded wikimedia-button.svg\n",
            "Downloaded poweredby_mediawiki.svg\n",
            "All images have been saved and zipped in downloaded_images.zip\n"
          ]
        },
        {
          "output_type": "display_data",
          "data": {
            "text/plain": [
              "<IPython.core.display.Javascript object>"
            ],
            "application/javascript": [
              "\n",
              "    async function download(id, filename, size) {\n",
              "      if (!google.colab.kernel.accessAllowed) {\n",
              "        return;\n",
              "      }\n",
              "      const div = document.createElement('div');\n",
              "      const label = document.createElement('label');\n",
              "      label.textContent = `Downloading \"${filename}\": `;\n",
              "      div.appendChild(label);\n",
              "      const progress = document.createElement('progress');\n",
              "      progress.max = size;\n",
              "      div.appendChild(progress);\n",
              "      document.body.appendChild(div);\n",
              "\n",
              "      const buffers = [];\n",
              "      let downloaded = 0;\n",
              "\n",
              "      const channel = await google.colab.kernel.comms.open(id);\n",
              "      // Send a message to notify the kernel that we're ready.\n",
              "      channel.send({})\n",
              "\n",
              "      for await (const message of channel.messages) {\n",
              "        // Send a message to notify the kernel that we're ready.\n",
              "        channel.send({})\n",
              "        if (message.buffers) {\n",
              "          for (const buffer of message.buffers) {\n",
              "            buffers.push(buffer);\n",
              "            downloaded += buffer.byteLength;\n",
              "            progress.value = downloaded;\n",
              "          }\n",
              "        }\n",
              "      }\n",
              "      const blob = new Blob(buffers, {type: 'application/binary'});\n",
              "      const a = document.createElement('a');\n",
              "      a.href = window.URL.createObjectURL(blob);\n",
              "      a.download = filename;\n",
              "      div.appendChild(a);\n",
              "      a.click();\n",
              "      div.remove();\n",
              "    }\n",
              "  "
            ]
          },
          "metadata": {}
        },
        {
          "output_type": "display_data",
          "data": {
            "text/plain": [
              "<IPython.core.display.Javascript object>"
            ],
            "application/javascript": [
              "download(\"download_d5092414-afcb-4ddf-8b5e-b501429469df\", \"downloaded_images.zip\", 261046)"
            ]
          },
          "metadata": {}
        }
      ]
    }
  ]
}